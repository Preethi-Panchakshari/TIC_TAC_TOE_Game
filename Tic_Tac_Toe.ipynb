{
  "nbformat": 4,
  "nbformat_minor": 0,
  "metadata": {
    "colab": {
      "name": "Tic-Tac-Toe.ipynb",
      "provenance": [],
      "authorship_tag": "ABX9TyMjBJH8iaxao0usefZq0QhI",
      "include_colab_link": true
    },
    "kernelspec": {
      "name": "python3",
      "display_name": "Python 3"
    }
  },
  "cells": [
    {
      "cell_type": "markdown",
      "metadata": {
        "id": "view-in-github",
        "colab_type": "text"
      },
      "source": [
        "<a href=\"https://colab.research.google.com/github/Preethi-Panchakshari/TIC_TAC_TOE_Game/blob/master/Tic_Tac_Toe.ipynb\" target=\"_parent\"><img src=\"https://colab.research.google.com/assets/colab-badge.svg\" alt=\"Open In Colab\"/></a>"
      ]
    },
    {
      "cell_type": "code",
      "metadata": {
        "id": "lpfCN9h5RMFU",
        "colab_type": "code",
        "colab": {}
      },
      "source": [
        "from IPython.display import clear_output\n",
        "\n",
        "def display_board(board):\n",
        "    clear_output()\n",
        "    print(' '+board[7]+' | '+board[8]+' | '+board[9]+' ')\n",
        "    print('-----------')\n",
        "    print(' '+board[4]+' | '+board[5]+' | '+board[6]+' ')\n",
        "    print('-----------')\n",
        "    print(' '+board[1]+' | '+board[2]+' | '+board[3]+' ')"
      ],
      "execution_count": 0,
      "outputs": []
    },
    {
      "cell_type": "code",
      "metadata": {
        "id": "hX9Amuk0SOO7",
        "colab_type": "code",
        "colab": {}
      },
      "source": [
        "board = ['#','X','O','X','O','X','O','X','O','X','O']"
      ],
      "execution_count": 0,
      "outputs": []
    },
    {
      "cell_type": "code",
      "metadata": {
        "id": "OPQHVpebSo_W",
        "colab_type": "code",
        "colab": {
          "base_uri": "https://localhost:8080/",
          "height": 108
        },
        "outputId": "095074e3-08a7-421a-99d2-f2594048fbe2"
      },
      "source": [
        "display_board(board)"
      ],
      "execution_count": 33,
      "outputs": [
        {
          "output_type": "stream",
          "text": [
            " X | O | X \n",
            "-----------\n",
            " O | X | O \n",
            "-----------\n",
            " X | O | X \n"
          ],
          "name": "stdout"
        }
      ]
    },
    {
      "cell_type": "code",
      "metadata": {
        "id": "ggOjWNsDSX9Q",
        "colab_type": "code",
        "colab": {}
      },
      "source": [
        "def player_input():\n",
        "    marker = ''\n",
        "    \n",
        "    while not (marker == 'X' or marker == \"O\"):\n",
        "        marker = input(\"Enter a Marker X/O for player one : \").upper()\n",
        "    \n",
        "    if marker == 'X':\n",
        "        return ('X','O')\n",
        "    else:\n",
        "        return ('O','X')"
      ],
      "execution_count": 0,
      "outputs": []
    },
    {
      "cell_type": "code",
      "metadata": {
        "id": "0MgY2L5ZShZr",
        "colab_type": "code",
        "colab": {
          "base_uri": "https://localhost:8080/",
          "height": 126
        },
        "outputId": "6949d1a3-d080-4aa2-83df-5b53ddb0224b"
      },
      "source": [
        "player_input()"
      ],
      "execution_count": 35,
      "outputs": [
        {
          "output_type": "stream",
          "text": [
            "Enter a Marker X/O for player one : \n",
            "Enter a Marker X/O for player one : \n",
            "Enter a Marker X/O for player one : 1\n",
            "Enter a Marker X/O for player one : w\n",
            "Enter a Marker X/O for player one : o\n"
          ],
          "name": "stdout"
        },
        {
          "output_type": "execute_result",
          "data": {
            "text/plain": [
              "('O', 'X')"
            ]
          },
          "metadata": {
            "tags": []
          },
          "execution_count": 35
        }
      ]
    },
    {
      "cell_type": "code",
      "metadata": {
        "id": "TxA7JUpkSkKL",
        "colab_type": "code",
        "colab": {}
      },
      "source": [
        "def place_marker(board,marker,position):\n",
        "    board[position] = marker"
      ],
      "execution_count": 0,
      "outputs": []
    },
    {
      "cell_type": "code",
      "metadata": {
        "id": "hbNfRVo4SvEb",
        "colab_type": "code",
        "colab": {}
      },
      "source": [
        "place_marker(board,\"X\",5)"
      ],
      "execution_count": 0,
      "outputs": []
    },
    {
      "cell_type": "code",
      "metadata": {
        "id": "SQjJm871SzXE",
        "colab_type": "code",
        "colab": {
          "base_uri": "https://localhost:8080/",
          "height": 108
        },
        "outputId": "207ab87d-1319-4570-b965-139a853f0074"
      },
      "source": [
        "display_board(board)"
      ],
      "execution_count": 38,
      "outputs": [
        {
          "output_type": "stream",
          "text": [
            " X | O | X \n",
            "-----------\n",
            " O | X | O \n",
            "-----------\n",
            " X | O | X \n"
          ],
          "name": "stdout"
        }
      ]
    },
    {
      "cell_type": "code",
      "metadata": {
        "id": "x8pzwcxQS1vj",
        "colab_type": "code",
        "colab": {}
      },
      "source": [
        "def win_check(board,marker):\n",
        "    \n",
        "    if( (board[7]==marker and board[8]==marker and board[9]==marker) or\n",
        "        (board[4]==marker and board[5]==marker and board[6]==marker) or\n",
        "        (board[1]==marker and board[2]==marker and board[3]==marker) or\n",
        "        (board[7]==marker and board[4]==marker and board[1]==marker) or\n",
        "        (board[8]==marker and board[5]==marker and board[2]==marker) or\n",
        "        (board[9]==marker and board[6]==marker and board[3]==marker) or\n",
        "        (board[7]==marker and board[5]==marker and board[3]==marker) or\n",
        "        (board[9]==marker and board[5]==marker and board[1]==marker)):\n",
        "        return True\n",
        "    else:\n",
        "        return False"
      ],
      "execution_count": 0,
      "outputs": []
    },
    {
      "cell_type": "code",
      "metadata": {
        "id": "1ivhwZ9STBOq",
        "colab_type": "code",
        "colab": {
          "base_uri": "https://localhost:8080/",
          "height": 35
        },
        "outputId": "4dd4d892-b17c-45cc-f5e3-d9bec4528133"
      },
      "source": [
        "win_check(board,'X')"
      ],
      "execution_count": 40,
      "outputs": [
        {
          "output_type": "execute_result",
          "data": {
            "text/plain": [
              "True"
            ]
          },
          "metadata": {
            "tags": []
          },
          "execution_count": 40
        }
      ]
    },
    {
      "cell_type": "code",
      "metadata": {
        "id": "-8xojwkFTFBH",
        "colab_type": "code",
        "colab": {
          "base_uri": "https://localhost:8080/",
          "height": 35
        },
        "outputId": "628975a7-971c-411c-c5d8-722fa6b54ae5"
      },
      "source": [
        "win_check(board,'O')"
      ],
      "execution_count": 41,
      "outputs": [
        {
          "output_type": "execute_result",
          "data": {
            "text/plain": [
              "False"
            ]
          },
          "metadata": {
            "tags": []
          },
          "execution_count": 41
        }
      ]
    },
    {
      "cell_type": "code",
      "metadata": {
        "id": "KloKkwigTHUi",
        "colab_type": "code",
        "colab": {}
      },
      "source": [
        "import random \n",
        "\n",
        "def choose_first():\n",
        "    num = random.randint(0,1)\n",
        "    \n",
        "    if num == 1:\n",
        "        return 'Player 1'\n",
        "    else:\n",
        "        return 'Player 2'"
      ],
      "execution_count": 0,
      "outputs": []
    },
    {
      "cell_type": "code",
      "metadata": {
        "id": "-FkJ0O_GTLqa",
        "colab_type": "code",
        "colab": {
          "base_uri": "https://localhost:8080/",
          "height": 35
        },
        "outputId": "f5b796d8-8355-4872-da81-024c494e325e"
      },
      "source": [
        "choose_first()"
      ],
      "execution_count": 43,
      "outputs": [
        {
          "output_type": "execute_result",
          "data": {
            "text/plain": [
              "'Player 2'"
            ]
          },
          "metadata": {
            "tags": []
          },
          "execution_count": 43
        }
      ]
    },
    {
      "cell_type": "code",
      "metadata": {
        "id": "gYn0OmUaTOK9",
        "colab_type": "code",
        "colab": {}
      },
      "source": [
        "board = ['#','X',' ',' ','O','X',' ','X',' ','X','O']"
      ],
      "execution_count": 0,
      "outputs": []
    },
    {
      "cell_type": "code",
      "metadata": {
        "id": "iltx3tl0TR_U",
        "colab_type": "code",
        "colab": {}
      },
      "source": [
        "def space_check(board,position):\n",
        "    return board[position] == ' '"
      ],
      "execution_count": 0,
      "outputs": []
    },
    {
      "cell_type": "code",
      "metadata": {
        "id": "RXaGhhNXTV2U",
        "colab_type": "code",
        "colab": {
          "base_uri": "https://localhost:8080/",
          "height": 35
        },
        "outputId": "302e9c0a-d0ae-41da-8600-9a9edef05b5d"
      },
      "source": [
        "space_check(board,6)"
      ],
      "execution_count": 46,
      "outputs": [
        {
          "output_type": "execute_result",
          "data": {
            "text/plain": [
              "True"
            ]
          },
          "metadata": {
            "tags": []
          },
          "execution_count": 46
        }
      ]
    },
    {
      "cell_type": "code",
      "metadata": {
        "id": "Z4cFrq3mTYwN",
        "colab_type": "code",
        "colab": {}
      },
      "source": [
        "def full_board_check(board):\n",
        "    isFull = True\n",
        "    for i in board:\n",
        "        if i == ' ':\n",
        "            isFull = False\n",
        "    return isFull"
      ],
      "execution_count": 0,
      "outputs": []
    },
    {
      "cell_type": "code",
      "metadata": {
        "id": "oYj91XcqTdMq",
        "colab_type": "code",
        "colab": {
          "base_uri": "https://localhost:8080/",
          "height": 35
        },
        "outputId": "4fb2d8f3-4d22-49a4-8080-d22444245299"
      },
      "source": [
        "full_board_check(board)"
      ],
      "execution_count": 48,
      "outputs": [
        {
          "output_type": "execute_result",
          "data": {
            "text/plain": [
              "False"
            ]
          },
          "metadata": {
            "tags": []
          },
          "execution_count": 48
        }
      ]
    },
    {
      "cell_type": "code",
      "metadata": {
        "id": "KxDvk6RzTgZn",
        "colab_type": "code",
        "colab": {}
      },
      "source": [
        "def full_board_check(board):\n",
        "    for i in range(1,10):\n",
        "        if space_check(board,i):\n",
        "            return False\n",
        "    return True"
      ],
      "execution_count": 0,
      "outputs": []
    },
    {
      "cell_type": "code",
      "metadata": {
        "id": "kaRvKTlcTkSJ",
        "colab_type": "code",
        "colab": {
          "base_uri": "https://localhost:8080/",
          "height": 35
        },
        "outputId": "b9e608a5-32b9-47dc-c430-6368e0191e9d"
      },
      "source": [
        "full_board_check(board)"
      ],
      "execution_count": 50,
      "outputs": [
        {
          "output_type": "execute_result",
          "data": {
            "text/plain": [
              "False"
            ]
          },
          "metadata": {
            "tags": []
          },
          "execution_count": 50
        }
      ]
    },
    {
      "cell_type": "code",
      "metadata": {
        "id": "KSiJIvmvTndA",
        "colab_type": "code",
        "colab": {}
      },
      "source": [
        "def players_choice(board):\n",
        "    position = 0\n",
        "    \n",
        "    while not position in [1,2,3,4,5,6,7,8,9] or not space_check(board,position) : \n",
        "        position = int(input(\"Enter your next position : \"))\n",
        "        \n",
        "    return position"
      ],
      "execution_count": 0,
      "outputs": []
    },
    {
      "cell_type": "code",
      "metadata": {
        "id": "yLlsubWXTqHe",
        "colab_type": "code",
        "colab": {
          "base_uri": "https://localhost:8080/",
          "height": 54
        },
        "outputId": "75932f14-db99-44b1-f94f-fe38c8971a90"
      },
      "source": [
        "players_choice(board)"
      ],
      "execution_count": 54,
      "outputs": [
        {
          "output_type": "stream",
          "text": [
            "Enter your next position : 6\n"
          ],
          "name": "stdout"
        },
        {
          "output_type": "execute_result",
          "data": {
            "text/plain": [
              "6"
            ]
          },
          "metadata": {
            "tags": []
          },
          "execution_count": 54
        }
      ]
    },
    {
      "cell_type": "code",
      "metadata": {
        "id": "jkOmnSxoTtPb",
        "colab_type": "code",
        "colab": {}
      },
      "source": [
        "def replay():\n",
        "    return input(\"Do you want to play again (Y/N) : \").lower().startswith('y')"
      ],
      "execution_count": 0,
      "outputs": []
    },
    {
      "cell_type": "code",
      "metadata": {
        "id": "5mIyzPLkT1lB",
        "colab_type": "code",
        "colab": {
          "base_uri": "https://localhost:8080/",
          "height": 54
        },
        "outputId": "65ab9ea6-71db-49ff-e06a-64118b831eec"
      },
      "source": [
        "replay()"
      ],
      "execution_count": 56,
      "outputs": [
        {
          "output_type": "stream",
          "text": [
            "Do you want to play again (Y/N) : y\n"
          ],
          "name": "stdout"
        },
        {
          "output_type": "execute_result",
          "data": {
            "text/plain": [
              "True"
            ]
          },
          "metadata": {
            "tags": []
          },
          "execution_count": 56
        }
      ]
    },
    {
      "cell_type": "code",
      "metadata": {
        "id": "3m3dkqSNT5pp",
        "colab_type": "code",
        "colab": {
          "base_uri": "https://localhost:8080/",
          "height": 145
        },
        "outputId": "43ed126c-8480-44fa-e059-441a7bf21461"
      },
      "source": [
        "# Here Comes the final Assembly of the game \n",
        "\n",
        "while True:\n",
        "    \n",
        "    board = [' ']* 10\n",
        "    \n",
        "    player1_marker, player2_marker = player_input()\n",
        "    turn = choose_first()\n",
        "    \n",
        "    print(turn + \" Will play First\")\n",
        "    \n",
        "    play_game = input(\"Are you ready to play the game Y/N\").lower().startswith('y')\n",
        "    \n",
        "    if play_game:\n",
        "        game_on = True\n",
        "    else:\n",
        "        game_on = False\n",
        "    \n",
        "    while game_on:\n",
        "        if turn == 'Player 1':\n",
        "\n",
        "            # Game logic starts here for player 1 \n",
        "            \n",
        "            display_board(board)\n",
        "            position = players_choice(board)\n",
        "            place_marker(board,player1_marker,position)\n",
        "            \n",
        "            if win_check(board,player1_marker):\n",
        "                display_board(board)\n",
        "                print(\"Player 1 Won the game!! Congratulations ;)\")\n",
        "                game_on = False\n",
        "            else:\n",
        "                if full_board_check(board):\n",
        "                    display_board(board)\n",
        "                    print('The Game is Draw, Better luck next time !!')\n",
        "                    break\n",
        "                else:\n",
        "                    turn = \"Player 2\"\n",
        "        else:\n",
        "            # Game logic for Player 2\n",
        "            \n",
        "            display_board(board)\n",
        "            position = players_choice(board)\n",
        "            place_marker(board,player2_marker,position)\n",
        "            \n",
        "            if win_check(board,player2_marker):\n",
        "                display_board(board)\n",
        "                print(\"Player 2 Won the game!! Congratulations ;)\")\n",
        "                game_on = False\n",
        "            else:\n",
        "                if full_board_check(board):\n",
        "                    display_board(board)\n",
        "                    print('The Game is Draw, Better luck next time !!')\n",
        "                    break\n",
        "                else:\n",
        "                    turn = \"Player 1\"\n",
        "    \n",
        "    if not replay():\n",
        "        break"
      ],
      "execution_count": 58,
      "outputs": [
        {
          "output_type": "stream",
          "text": [
            " O | O | X \n",
            "-----------\n",
            "   | X |   \n",
            "-----------\n",
            " X |   |   \n",
            "Player 1 Won the game!! Congratulations ;)\n",
            "Do you want to play again (Y/N) : N\n"
          ],
          "name": "stdout"
        }
      ]
    },
    {
      "cell_type": "code",
      "metadata": {
        "id": "BxRRoimKUOE4",
        "colab_type": "code",
        "colab": {}
      },
      "source": [
        ""
      ],
      "execution_count": 0,
      "outputs": []
    }
  ]
}